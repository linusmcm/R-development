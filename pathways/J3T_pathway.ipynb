{
 "cells": [
  {
   "cell_type": "code",
   "execution_count": 141,
   "metadata": {
    "collapsed": true
   },
   "outputs": [],
   "source": [
    "import pandas as pd\n",
    "import numpy as np\n",
    "from mailer import Mailer\n",
    "from mailer import Message"
   ]
  },
  {
   "cell_type": "code",
   "execution_count": 142,
   "metadata": {},
   "outputs": [],
   "source": [
    "#!conda listhttp://localhost:8890/notebooks/Desktop/pathways/J3T_pathway.ipynb#"
   ]
  },
  {
   "cell_type": "code",
   "execution_count": 143,
   "metadata": {},
   "outputs": [],
   "source": [
    "#!pip install Mailer"
   ]
  },
  {
   "cell_type": "code",
   "execution_count": 144,
   "metadata": {
    "collapsed": true
   },
   "outputs": [],
   "source": [
    "from IPython.core.interactiveshell import InteractiveShell\n",
    "InteractiveShell.ast_node_interactivity = \"all\""
   ]
  },
  {
   "cell_type": "code",
   "execution_count": 145,
   "metadata": {
    "collapsed": true
   },
   "outputs": [],
   "source": [
    "students = pd.read_excel(\"J3T_admitted.xlsx\", sheetname='base')\n",
    "enrolled_2017 = pd.read_excel(\"J3T_enrolled_2017.xlsx\", sheetname='Sheet1')"
   ]
  },
  {
   "cell_type": "code",
   "execution_count": 167,
   "metadata": {
    "collapsed": true
   },
   "outputs": [],
   "source": [
    "fisheries = pd.read_excel(\"J3T.xlsx\", sheetname='fisheries')\n",
    "aqua = pd.read_excel(\"J3T.xlsx\", sheetname='aquaculture')\n",
    "conservation = pd.read_excel(\"J3T.xlsx\", sheetname='conservation')"
   ]
  },
  {
   "cell_type": "code",
   "execution_count": 147,
   "metadata": {},
   "outputs": [
    {
     "data": {
      "text/html": [
       "<div>\n",
       "<style>\n",
       "    .dataframe thead tr:only-child th {\n",
       "        text-align: right;\n",
       "    }\n",
       "\n",
       "    .dataframe thead th {\n",
       "        text-align: left;\n",
       "    }\n",
       "\n",
       "    .dataframe tbody tr th {\n",
       "        vertical-align: top;\n",
       "    }\n",
       "</style>\n",
       "<table border=\"1\" class=\"dataframe\">\n",
       "  <thead>\n",
       "    <tr style=\"text-align: right;\">\n",
       "      <th></th>\n",
       "      <th>StudentID</th>\n",
       "      <th>FamilyName</th>\n",
       "      <th>FirstGiven Name</th>\n",
       "      <th>StudyPackageCode</th>\n",
       "      <th>StudyPackageCPValue</th>\n",
       "      <th>StudyPackageTitle</th>\n",
       "      <th>PackageStatus</th>\n",
       "      <th>AvailabilityYear</th>\n",
       "      <th>GradeCode</th>\n",
       "      <th>Mark</th>\n",
       "      <th>ParentCode</th>\n",
       "      <th>StudyPackageTitle.1</th>\n",
       "      <th>Email</th>\n",
       "      <th>Location</th>\n",
       "      <th>StudyPeriod</th>\n",
       "      <th>TotalEnrolledCredit</th>\n",
       "      <th>AdvancedStandingCredit</th>\n",
       "      <th>TotalCreditPoints</th>\n",
       "      <th>TotalAchieved</th>\n",
       "    </tr>\n",
       "  </thead>\n",
       "  <tbody>\n",
       "    <tr>\n",
       "      <th>0</th>\n",
       "      <td>191721</td>\n",
       "      <td>Nicholls</td>\n",
       "      <td>Andrew</td>\n",
       "      <td>JFA104</td>\n",
       "      <td>12.5</td>\n",
       "      <td>Fishing Industry and Operations</td>\n",
       "      <td>Passed</td>\n",
       "      <td>2015</td>\n",
       "      <td>DN</td>\n",
       "      <td>75</td>\n",
       "      <td>J3T</td>\n",
       "      <td>BAppSc (ME)</td>\n",
       "      <td>Andrew.Nicholls@utas.edu.au</td>\n",
       "      <td>Launceston</td>\n",
       "      <td>Semester 2</td>\n",
       "      <td>62.5</td>\n",
       "      <td>0.0</td>\n",
       "      <td>300</td>\n",
       "      <td>225.0</td>\n",
       "    </tr>\n",
       "    <tr>\n",
       "      <th>1</th>\n",
       "      <td>191721</td>\n",
       "      <td>Nicholls</td>\n",
       "      <td>Andrew</td>\n",
       "      <td>JFA219</td>\n",
       "      <td>12.5</td>\n",
       "      <td>Field Research Techniques for Aquatic Ecosystems</td>\n",
       "      <td>Passed</td>\n",
       "      <td>2016</td>\n",
       "      <td>DN</td>\n",
       "      <td>76</td>\n",
       "      <td>J3T</td>\n",
       "      <td>BAppSc (ME)</td>\n",
       "      <td>Andrew.Nicholls@utas.edu.au</td>\n",
       "      <td>Launceston</td>\n",
       "      <td>Spring school</td>\n",
       "      <td>62.5</td>\n",
       "      <td>0.0</td>\n",
       "      <td>300</td>\n",
       "      <td>225.0</td>\n",
       "    </tr>\n",
       "    <tr>\n",
       "      <th>2</th>\n",
       "      <td>191721</td>\n",
       "      <td>Nicholls</td>\n",
       "      <td>Andrew</td>\n",
       "      <td>JFA213</td>\n",
       "      <td>12.5</td>\n",
       "      <td>Marine Resource Economics</td>\n",
       "      <td>Passed</td>\n",
       "      <td>2016</td>\n",
       "      <td>CR</td>\n",
       "      <td>65</td>\n",
       "      <td>J3T</td>\n",
       "      <td>BAppSc (ME)</td>\n",
       "      <td>Andrew.Nicholls@utas.edu.au</td>\n",
       "      <td>Launceston</td>\n",
       "      <td>Semester 1</td>\n",
       "      <td>62.5</td>\n",
       "      <td>0.0</td>\n",
       "      <td>300</td>\n",
       "      <td>225.0</td>\n",
       "    </tr>\n",
       "    <tr>\n",
       "      <th>3</th>\n",
       "      <td>191721</td>\n",
       "      <td>Nicholls</td>\n",
       "      <td>Andrew</td>\n",
       "      <td>JFA108</td>\n",
       "      <td>12.5</td>\n",
       "      <td>Introduction to Fisheries Management</td>\n",
       "      <td>Passed</td>\n",
       "      <td>2015</td>\n",
       "      <td>HD</td>\n",
       "      <td>82</td>\n",
       "      <td>J3T</td>\n",
       "      <td>BAppSc (ME)</td>\n",
       "      <td>Andrew.Nicholls@utas.edu.au</td>\n",
       "      <td>Launceston</td>\n",
       "      <td>Semester 1</td>\n",
       "      <td>62.5</td>\n",
       "      <td>0.0</td>\n",
       "      <td>300</td>\n",
       "      <td>225.0</td>\n",
       "    </tr>\n",
       "    <tr>\n",
       "      <th>4</th>\n",
       "      <td>191721</td>\n",
       "      <td>Nicholls</td>\n",
       "      <td>Andrew</td>\n",
       "      <td>JFA101</td>\n",
       "      <td>12.5</td>\n",
       "      <td>Aquatic Biology A</td>\n",
       "      <td>Passed</td>\n",
       "      <td>2015</td>\n",
       "      <td>DN</td>\n",
       "      <td>71</td>\n",
       "      <td>J3T</td>\n",
       "      <td>BAppSc (ME)</td>\n",
       "      <td>Andrew.Nicholls@utas.edu.au</td>\n",
       "      <td>Launceston</td>\n",
       "      <td>Semester 1</td>\n",
       "      <td>62.5</td>\n",
       "      <td>0.0</td>\n",
       "      <td>300</td>\n",
       "      <td>225.0</td>\n",
       "    </tr>\n",
       "  </tbody>\n",
       "</table>\n",
       "</div>"
      ],
      "text/plain": [
       "   StudentID FamilyName FirstGiven Name StudyPackageCode  StudyPackageCPValue  \\\n",
       "0     191721   Nicholls          Andrew           JFA104                 12.5   \n",
       "1     191721   Nicholls          Andrew           JFA219                 12.5   \n",
       "2     191721   Nicholls          Andrew           JFA213                 12.5   \n",
       "3     191721   Nicholls          Andrew           JFA108                 12.5   \n",
       "4     191721   Nicholls          Andrew           JFA101                 12.5   \n",
       "\n",
       "                                  StudyPackageTitle PackageStatus  \\\n",
       "0                   Fishing Industry and Operations        Passed   \n",
       "1  Field Research Techniques for Aquatic Ecosystems        Passed   \n",
       "2                         Marine Resource Economics        Passed   \n",
       "3              Introduction to Fisheries Management        Passed   \n",
       "4                                 Aquatic Biology A        Passed   \n",
       "\n",
       "   AvailabilityYear GradeCode  Mark ParentCode StudyPackageTitle.1  \\\n",
       "0              2015        DN    75        J3T         BAppSc (ME)   \n",
       "1              2016        DN    76        J3T         BAppSc (ME)   \n",
       "2              2016        CR    65        J3T         BAppSc (ME)   \n",
       "3              2015        HD    82        J3T         BAppSc (ME)   \n",
       "4              2015        DN    71        J3T         BAppSc (ME)   \n",
       "\n",
       "                         Email    Location    StudyPeriod  \\\n",
       "0  Andrew.Nicholls@utas.edu.au  Launceston     Semester 2   \n",
       "1  Andrew.Nicholls@utas.edu.au  Launceston  Spring school   \n",
       "2  Andrew.Nicholls@utas.edu.au  Launceston     Semester 1   \n",
       "3  Andrew.Nicholls@utas.edu.au  Launceston     Semester 1   \n",
       "4  Andrew.Nicholls@utas.edu.au  Launceston     Semester 1   \n",
       "\n",
       "   TotalEnrolledCredit  AdvancedStandingCredit  TotalCreditPoints  \\\n",
       "0                 62.5                     0.0                300   \n",
       "1                 62.5                     0.0                300   \n",
       "2                 62.5                     0.0                300   \n",
       "3                 62.5                     0.0                300   \n",
       "4                 62.5                     0.0                300   \n",
       "\n",
       "   TotalAchieved  \n",
       "0          225.0  \n",
       "1          225.0  \n",
       "2          225.0  \n",
       "3          225.0  \n",
       "4          225.0  "
      ]
     },
     "execution_count": 147,
     "metadata": {},
     "output_type": "execute_result"
    }
   ],
   "source": [
    "students.head()"
   ]
  },
  {
   "cell_type": "markdown",
   "metadata": {},
   "source": [
    "# Drop all units not passed"
   ]
  },
  {
   "cell_type": "code",
   "execution_count": 148,
   "metadata": {
    "collapsed": true
   },
   "outputs": [],
   "source": [
    "fisheriesStudents = students[students['StudyPackageCode'] == 'JFA104']\n",
    "conservationStudents = students[students['StudyPackageCode'] == 'JFA103']\n",
    "aquacultreStudents = students[students['StudyPackageCode'] == 'JFA106']"
   ]
  },
  {
   "cell_type": "code",
   "execution_count": 149,
   "metadata": {
    "scrolled": true
   },
   "outputs": [
    {
     "data": {
      "text/plain": [
       "31"
      ]
     },
     "execution_count": 149,
     "metadata": {},
     "output_type": "execute_result"
    },
    {
     "data": {
      "text/plain": [
       "11"
      ]
     },
     "execution_count": 149,
     "metadata": {},
     "output_type": "execute_result"
    },
    {
     "data": {
      "text/plain": [
       "22"
      ]
     },
     "execution_count": 149,
     "metadata": {},
     "output_type": "execute_result"
    },
    {
     "data": {
      "text/plain": [
       "70"
      ]
     },
     "execution_count": 149,
     "metadata": {},
     "output_type": "execute_result"
    }
   ],
   "source": [
    "fisheriesStudents['StudentID'].nunique()\n",
    "conservationStudents['StudentID'].nunique()\n",
    "aquacultreStudents['StudentID'].nunique()\n",
    "students['StudentID'].nunique()"
   ]
  },
  {
   "cell_type": "code",
   "execution_count": 150,
   "metadata": {},
   "outputs": [
    {
     "data": {
      "text/plain": [
       "61"
      ]
     },
     "execution_count": 150,
     "metadata": {},
     "output_type": "execute_result"
    },
    {
     "data": {
      "text/plain": [
       "70"
      ]
     },
     "execution_count": 150,
     "metadata": {},
     "output_type": "execute_result"
    },
    {
     "name": "stdout",
     "output_type": "stream",
     "text": [
      "Students that are not enrolled in a major:  [ 82224 136731 209797 227940 402327 426854 436744 455797 457727]\n"
     ]
    }
   ],
   "source": [
    "df2 = students[(students.StudyPackageCode == 'JFA104') | (students.StudyPackageCode == 'JFA106') | (students.StudyPackageCode == 'JFA103')]\n",
    "df2['StudentID'].nunique()\n",
    "students.StudentID.nunique()\n",
    "enrolledList = df2.StudentID.unique()\n",
    "allStudentsList = students.StudentID.unique()\n",
    "unenrolledStudents = np.setdiff1d(allStudentsList, enrolledList)\n",
    "print \"Students that are not enrolled in a major: \" ,unenrolledStudents"
   ]
  },
  {
   "cell_type": "markdown",
   "metadata": {},
   "source": [
    "# Student NOT enrolled in a major"
   ]
  },
  {
   "cell_type": "code",
   "execution_count": 151,
   "metadata": {
    "collapsed": true
   },
   "outputs": [],
   "source": [
    "notE = students[students['StudentID'].isin(unenrolledStudents)]"
   ]
  },
  {
   "cell_type": "code",
   "execution_count": 152,
   "metadata": {},
   "outputs": [
    {
     "name": "stdout",
     "output_type": "stream",
     "text": [
      "CP weights and  StudentID\n",
      "82224      37.5\n",
      "136731     37.5\n",
      "209797    150.0\n",
      "227940    100.0\n",
      "402327    112.5\n",
      "426854     87.5\n",
      "436744     50.0\n",
      "455797     87.5\n",
      "457727     50.0\n",
      "dtype: float64\n"
     ]
    }
   ],
   "source": [
    "notECP = notE.groupby('StudentID').apply(lambda x: sum(x['StudyPackageCPValue']))\n",
    "print \"CP weights and \", notECP"
   ]
  },
  {
   "cell_type": "code",
   "execution_count": 153,
   "metadata": {},
   "outputs": [
    {
     "data": {
      "text/html": [
       "<div>\n",
       "<style>\n",
       "    .dataframe thead tr:only-child th {\n",
       "        text-align: right;\n",
       "    }\n",
       "\n",
       "    .dataframe thead th {\n",
       "        text-align: left;\n",
       "    }\n",
       "\n",
       "    .dataframe tbody tr th {\n",
       "        vertical-align: top;\n",
       "    }\n",
       "</style>\n",
       "<table border=\"1\" class=\"dataframe\">\n",
       "  <thead>\n",
       "    <tr style=\"text-align: right;\">\n",
       "      <th></th>\n",
       "      <th>StudentID</th>\n",
       "      <th>FamilyName</th>\n",
       "      <th>FirstName</th>\n",
       "      <th>StudyPackageCode</th>\n",
       "      <th>StudyCPValue</th>\n",
       "      <th>StudyPackageTitle</th>\n",
       "      <th>Status</th>\n",
       "      <th>Year</th>\n",
       "      <th>EmailAddress</th>\n",
       "      <th>Location</th>\n",
       "      <th>StudyPeriod</th>\n",
       "      <th>TotalEnrolledCreditPoints</th>\n",
       "      <th>TotalCreditPoints</th>\n",
       "      <th>TotalAchievedPoints</th>\n",
       "      <th>FieldofEducation</th>\n",
       "    </tr>\n",
       "  </thead>\n",
       "  <tbody>\n",
       "    <tr>\n",
       "      <th>0</th>\n",
       "      <td>191721</td>\n",
       "      <td>Nicholls</td>\n",
       "      <td>Andrew</td>\n",
       "      <td>JFA308</td>\n",
       "      <td>12.5</td>\n",
       "      <td>Fisheries Assessment</td>\n",
       "      <td>Enrolled</td>\n",
       "      <td>2017</td>\n",
       "      <td>Andrew.Nicholls@utas.edu.au</td>\n",
       "      <td>Launceston</td>\n",
       "      <td>Semester 1</td>\n",
       "      <td>62.5</td>\n",
       "      <td>300</td>\n",
       "      <td>225.0</td>\n",
       "      <td>50701</td>\n",
       "    </tr>\n",
       "  </tbody>\n",
       "</table>\n",
       "</div>"
      ],
      "text/plain": [
       "   StudentID FamilyName FirstName StudyPackageCode  StudyCPValue  \\\n",
       "0     191721   Nicholls    Andrew           JFA308          12.5   \n",
       "\n",
       "      StudyPackageTitle    Status  Year                 EmailAddress  \\\n",
       "0  Fisheries Assessment  Enrolled  2017  Andrew.Nicholls@utas.edu.au   \n",
       "\n",
       "     Location StudyPeriod  TotalEnrolledCreditPoints  TotalCreditPoints  \\\n",
       "0  Launceston  Semester 1                       62.5                300   \n",
       "\n",
       "   TotalAchievedPoints  FieldofEducation  \n",
       "0                225.0             50701  "
      ]
     },
     "execution_count": 153,
     "metadata": {},
     "output_type": "execute_result"
    }
   ],
   "source": [
    "enrolled_2017.head(1)"
   ]
  },
  {
   "cell_type": "markdown",
   "metadata": {},
   "source": [
    "#  Students not enrolled in full Semester 2 load "
   ]
  },
  {
   "cell_type": "code",
   "execution_count": 154,
   "metadata": {
    "collapsed": true
   },
   "outputs": [],
   "source": [
    "sem2 = enrolled_2017[enrolled_2017.StudyPeriod == 'Semester 2']"
   ]
  },
  {
   "cell_type": "code",
   "execution_count": 155,
   "metadata": {},
   "outputs": [],
   "source": [
    "sem2CP = sem2.groupby(['StudentID','EmailAddress','FamilyName', 'FirstName']).apply(lambda x: sum(x['StudyCPValue']))\n",
    "notFullLoad = sem2CP[sem2CP < 50]\n",
    "notFullLoad = pd.DataFrame(notFullLoad)"
   ]
  },
  {
   "cell_type": "code",
   "execution_count": 156,
   "metadata": {},
   "outputs": [],
   "source": [
    "notFullLoad.to_csv(\"notFullLoad.csv\")"
   ]
  },
  {
   "cell_type": "code",
   "execution_count": null,
   "metadata": {},
   "outputs": [],
   "source": []
  },
  {
   "cell_type": "code",
   "execution_count": null,
   "metadata": {},
   "outputs": [],
   "source": []
  },
  {
   "cell_type": "code",
   "execution_count": 157,
   "metadata": {},
   "outputs": [],
   "source": [
    "#for index, series in notFullLoad.iterrows():\n",
    " #   print index\n",
    "    #print series[index[0]]\n",
    "    #message = Message(From = \"AMC.courseinfo@utas.edu.au\", To = index, charset=\"utf-8\")\n",
    "    #message.Subject = \"J3T Enrolment for Semester 2 2017\"\n",
    "    #message.Html = \"Hi, %s! your enrollment score is %s\" % (series[0], series[1])\n",
    "    #message.Html = \"Hi, %s! your enrollment score is %s\" % (row['FirstName'], row['score'])\n",
    "   \n",
    "    \n",
    "    #sender = Mailer('smtp.gmail.com', port= 465, use_tls=False, usr=\"linus.mcmanamey@gmail.com\", pwd=\"blockAll3q123\", use_ssl=True, use_plain_auth=True)\n",
    "    #sender.send(message)"
   ]
  },
  {
   "cell_type": "code",
   "execution_count": 158,
   "metadata": {
    "collapsed": true
   },
   "outputs": [],
   "source": [
    "aStudents = aquacultreStudents['StudentID'].unique()\n",
    "aquaCourseList = aqua.course_code\n",
    "students = students[students['PackageStatus'] == 'Passed']\n",
    "temp = []\n",
    "inPathway = []\n",
    "for i in aStudents:\n",
    "    temp.append(np.setdiff1d(aquaCourseList, students[students['StudentID']==i]['StudyPackageCode']))\n",
    "    inPathway.append(np.intersect1d(aquaCourseList, students[students['StudentID']==i]['StudyPackageCode']))\n",
    "#results = pd.concat(temp)"
   ]
  },
  {
   "cell_type": "code",
   "execution_count": 165,
   "metadata": {
    "scrolled": true
   },
   "outputs": [
    {
     "data": {
      "text/plain": [
       "[array([u'JFA101', u'JFA102', u'JFA106', u'JFA107', u'JFA114', u'JFA115',\n",
       "        u'KMA153', u'KRA101'], dtype=object),\n",
       " array([u'JFA101', u'JFA102', u'JFA106', u'JFA107', u'JFA114', u'JFA115',\n",
       "        u'JFA202', u'JFA203', u'JFA207', u'JFA210', u'JFA214', u'JFA216',\n",
       "        u'KMA153', u'KRA161'], dtype=object),\n",
       " array([], dtype=object),\n",
       " array([u'JFA101', u'JFA106', u'JFA107', u'JFA115'], dtype=object),\n",
       " array([u'JFA101', u'JFA102', u'JFA106', u'JFA107', u'JFA114', u'JFA115',\n",
       "        u'KMA153', u'KRA161'], dtype=object),\n",
       " array([u'JFA102', u'JFA106', u'JFA107', u'JFA112', u'JFA114', u'JFA115',\n",
       "        u'JFA202', u'JFA203', u'JFA207', u'JFA302', u'JFA303'], dtype=object),\n",
       " array([], dtype=object),\n",
       " array([u'JFA101', u'JFA102', u'JFA106', u'JFA107', u'JFA114', u'JFA115',\n",
       "        u'KMA153', u'KRA161'], dtype=object),\n",
       " array([], dtype=object),\n",
       " array([u'JFA101', u'JFA102', u'JFA106', u'JFA114', u'JFA115', u'KMA153',\n",
       "        u'KRA101'], dtype=object),\n",
       " array([u'JFA101', u'JFA102', u'JFA106', u'JFA107', u'JFA114', u'JFA115',\n",
       "        u'JFA202', u'JFA203', u'JFA207', u'JFA210', u'JFA214', u'JFA216',\n",
       "        u'KMA153', u'KRA161'], dtype=object),\n",
       " array([u'JFA101', u'JFA102', u'JFA106', u'JFA107', u'JFA114', u'JFA115',\n",
       "        u'KMA153', u'KRA161'], dtype=object),\n",
       " array([], dtype=object),\n",
       " array([u'JFA106', u'JFA107', u'JFA114', u'JFA115', u'KMA153', u'KRA161'], dtype=object),\n",
       " array([u'JFA101', u'JFA102', u'JFA106', u'JFA107', u'JFA112', u'JFA114',\n",
       "        u'JFA115', u'JFA202', u'JFA203', u'JFA207', u'JFA210', u'JFA214',\n",
       "        u'JFA216', u'JFA302', u'JFA303', u'KRA161'], dtype=object),\n",
       " array([], dtype=object),\n",
       " array([], dtype=object),\n",
       " array([u'JFA101', u'JFA102', u'JFA106', u'JFA107', u'JFA114', u'JFA115',\n",
       "        u'KMA153', u'KRA161'], dtype=object),\n",
       " array([], dtype=object),\n",
       " array([u'JFA101', u'JFA102', u'JFA106', u'JFA107', u'JFA112', u'JFA114',\n",
       "        u'JFA115', u'JFA202', u'JFA203', u'JFA207', u'JFA210', u'JFA214',\n",
       "        u'JFA216', u'KRA161'], dtype=object),\n",
       " array([u'JFA101', u'JFA102', u'JFA106', u'JFA107', u'JFA112', u'JFA114',\n",
       "        u'JFA115', u'JFA202', u'JFA203', u'JFA207', u'JFA210', u'JFA216',\n",
       "        u'JFA301'], dtype=object),\n",
       " array([u'JFA101', u'JFA102', u'JFA106', u'JFA107', u'JFA112', u'JFA114',\n",
       "        u'JFA115', u'JFA202', u'JFA207', u'JFA216', u'KRA161'], dtype=object)]"
      ]
     },
     "execution_count": 165,
     "metadata": {},
     "output_type": "execute_result"
    }
   ],
   "source": [
    "inPathway"
   ]
  },
  {
   "cell_type": "code",
   "execution_count": 160,
   "metadata": {},
   "outputs": [
    {
     "data": {
      "text/plain": [
       "0     JFA101\n",
       "1     JFA106\n",
       "2     JFA114\n",
       "3     KRA101\n",
       "4     KRA161\n",
       "5     JFA102\n",
       "6     JFA107\n",
       "7     JFA112\n",
       "8     KMA153\n",
       "9     JFA115\n",
       "10    JFA203\n",
       "11    JFA210\n",
       "12    JFA214\n",
       "13    JFA202\n",
       "14    JFA207\n",
       "15    JFA216\n",
       "16    JFA301\n",
       "17    JFA304\n",
       "18    JFA305\n",
       "19    JFA303\n",
       "20    JFA314\n",
       "21    JFA302\n",
       "Name: course_code, dtype: object"
      ]
     },
     "execution_count": 160,
     "metadata": {},
     "output_type": "execute_result"
    }
   ],
   "source": [
    "aquaCourseList"
   ]
  },
  {
   "cell_type": "code",
   "execution_count": null,
   "metadata": {},
   "outputs": [],
   "source": []
  },
  {
   "cell_type": "code",
   "execution_count": 164,
   "metadata": {},
   "outputs": [
    {
     "ename": "IOError",
     "evalue": "[Errno 13] Permission denied: 'aquapathways.csv'",
     "output_type": "error",
     "traceback": [
      "\u001b[1;31m\u001b[0m",
      "\u001b[1;31mIOError\u001b[0mTraceback (most recent call last)",
      "\u001b[1;32m<ipython-input-164-bc269c1dd84f>\u001b[0m in \u001b[0;36m<module>\u001b[1;34m()\u001b[0m\n\u001b[0;32m      3\u001b[0m \u001b[0mdf\u001b[0m \u001b[1;33m=\u001b[0m \u001b[0mdf\u001b[0m\u001b[1;33m.\u001b[0m\u001b[0mT\u001b[0m\u001b[1;33m\u001b[0m\u001b[0m\n\u001b[0;32m      4\u001b[0m \u001b[0mdf\u001b[0m\u001b[1;33m.\u001b[0m\u001b[0mcolumns\u001b[0m \u001b[1;33m=\u001b[0m \u001b[1;33m[\u001b[0m\u001b[1;34m'StudentID'\u001b[0m\u001b[1;33m,\u001b[0m \u001b[1;34m'units'\u001b[0m\u001b[1;33m]\u001b[0m\u001b[1;33m\u001b[0m\u001b[0m\n\u001b[1;32m----> 5\u001b[1;33m \u001b[0mdf\u001b[0m\u001b[1;33m.\u001b[0m\u001b[0mto_csv\u001b[0m\u001b[1;33m(\u001b[0m\u001b[1;34m\"aquapathways.csv\"\u001b[0m\u001b[1;33m,\u001b[0m \u001b[0mindex\u001b[0m\u001b[1;33m=\u001b[0m\u001b[0mFalse\u001b[0m\u001b[1;33m)\u001b[0m\u001b[1;33m\u001b[0m\u001b[0m\n\u001b[0m",
      "\u001b[1;32mC:\\Users\\lmcmanam\\AppData\\Local\\Continuum\\Anaconda2\\lib\\site-packages\\pandas\\core\\frame.pyc\u001b[0m in \u001b[0;36mto_csv\u001b[1;34m(self, path_or_buf, sep, na_rep, float_format, columns, header, index, index_label, mode, encoding, compression, quoting, quotechar, line_terminator, chunksize, tupleize_cols, date_format, doublequote, escapechar, decimal)\u001b[0m\n\u001b[0;32m   1411\u001b[0m                                      \u001b[0mdoublequote\u001b[0m\u001b[1;33m=\u001b[0m\u001b[0mdoublequote\u001b[0m\u001b[1;33m,\u001b[0m\u001b[1;33m\u001b[0m\u001b[0m\n\u001b[0;32m   1412\u001b[0m                                      escapechar=escapechar, decimal=decimal)\n\u001b[1;32m-> 1413\u001b[1;33m         \u001b[0mformatter\u001b[0m\u001b[1;33m.\u001b[0m\u001b[0msave\u001b[0m\u001b[1;33m(\u001b[0m\u001b[1;33m)\u001b[0m\u001b[1;33m\u001b[0m\u001b[0m\n\u001b[0m\u001b[0;32m   1414\u001b[0m \u001b[1;33m\u001b[0m\u001b[0m\n\u001b[0;32m   1415\u001b[0m         \u001b[1;32mif\u001b[0m \u001b[0mpath_or_buf\u001b[0m \u001b[1;32mis\u001b[0m \u001b[0mNone\u001b[0m\u001b[1;33m:\u001b[0m\u001b[1;33m\u001b[0m\u001b[0m\n",
      "\u001b[1;32mC:\\Users\\lmcmanam\\AppData\\Local\\Continuum\\Anaconda2\\lib\\site-packages\\pandas\\io\\formats\\format.pyc\u001b[0m in \u001b[0;36msave\u001b[1;34m(self)\u001b[0m\n\u001b[0;32m   1566\u001b[0m             f, handles = _get_handle(self.path_or_buf, self.mode,\n\u001b[0;32m   1567\u001b[0m                                      \u001b[0mencoding\u001b[0m\u001b[1;33m=\u001b[0m\u001b[0mself\u001b[0m\u001b[1;33m.\u001b[0m\u001b[0mencoding\u001b[0m\u001b[1;33m,\u001b[0m\u001b[1;33m\u001b[0m\u001b[0m\n\u001b[1;32m-> 1568\u001b[1;33m                                      compression=self.compression)\n\u001b[0m\u001b[0;32m   1569\u001b[0m             \u001b[0mclose\u001b[0m \u001b[1;33m=\u001b[0m \u001b[0mTrue\u001b[0m\u001b[1;33m\u001b[0m\u001b[0m\n\u001b[0;32m   1570\u001b[0m \u001b[1;33m\u001b[0m\u001b[0m\n",
      "\u001b[1;32mC:\\Users\\lmcmanam\\AppData\\Local\\Continuum\\Anaconda2\\lib\\site-packages\\pandas\\io\\common.pyc\u001b[0m in \u001b[0;36m_get_handle\u001b[1;34m(path_or_buf, mode, encoding, compression, memory_map, is_text)\u001b[0m\n\u001b[0;32m    374\u001b[0m         \u001b[1;32mif\u001b[0m \u001b[0mcompat\u001b[0m\u001b[1;33m.\u001b[0m\u001b[0mPY2\u001b[0m\u001b[1;33m:\u001b[0m\u001b[1;33m\u001b[0m\u001b[0m\n\u001b[0;32m    375\u001b[0m             \u001b[1;31m# Python 2\u001b[0m\u001b[1;33m\u001b[0m\u001b[1;33m\u001b[0m\u001b[0m\n\u001b[1;32m--> 376\u001b[1;33m             \u001b[0mf\u001b[0m \u001b[1;33m=\u001b[0m \u001b[0mopen\u001b[0m\u001b[1;33m(\u001b[0m\u001b[0mpath_or_buf\u001b[0m\u001b[1;33m,\u001b[0m \u001b[0mmode\u001b[0m\u001b[1;33m)\u001b[0m\u001b[1;33m\u001b[0m\u001b[0m\n\u001b[0m\u001b[0;32m    377\u001b[0m         \u001b[1;32melif\u001b[0m \u001b[0mencoding\u001b[0m\u001b[1;33m:\u001b[0m\u001b[1;33m\u001b[0m\u001b[0m\n\u001b[0;32m    378\u001b[0m             \u001b[1;31m# Python 3 and encoding\u001b[0m\u001b[1;33m\u001b[0m\u001b[1;33m\u001b[0m\u001b[0m\n",
      "\u001b[1;31mIOError\u001b[0m: [Errno 13] Permission denied: 'aquapathways.csv'"
     ]
    }
   ],
   "source": [
    "matrix = np.matrix([aStudents, temp])\n",
    "df = pd.DataFrame(data=matrix)\n",
    "df = df.T\n",
    "df.columns = ['StudentID', 'units']\n",
    "df.to_csv(\"aquapathways.csv\", index=False)"
   ]
  },
  {
   "cell_type": "markdown",
   "metadata": {},
   "source": [
    "# fisheriesStudents"
   ]
  },
  {
   "cell_type": "code",
   "execution_count": null,
   "metadata": {},
   "outputs": [],
   "source": [
    "fStudents = fisheriesStudents['StudentID'].unique()\n",
    "fishCourseList = fisheries.course_code\n",
    "students = students[students['PackageStatus'] == 'Passed']\n",
    "temp = []\n",
    "for i in fStudents:\n",
    "    temp.append(np.setdiff1d(fishCourseList, students[students['StudentID']==i]['StudyPackageCode']))"
   ]
  },
  {
   "cell_type": "code",
   "execution_count": null,
   "metadata": {
    "collapsed": true
   },
   "outputs": [],
   "source": [
    "matrix = np.matrix([fStudents, temp])\n",
    "df = pd.DataFrame(data=matrix)\n",
    "df = df.T\n",
    "df.columns = ['StudentID', 'units']\n",
    "df.to_csv(\"fishpathways.csv\", index=False)"
   ]
  },
  {
   "cell_type": "markdown",
   "metadata": {},
   "source": [
    "# conservationStudents"
   ]
  },
  {
   "cell_type": "code",
   "execution_count": null,
   "metadata": {
    "scrolled": true
   },
   "outputs": [],
   "source": [
    "cStudents = conservationStudents['StudentID'].unique()\n",
    "conservationCourseList = conservation.course_code\n",
    "students = students[students['PackageStatus'] == 'Passed']\n",
    "temp = []\n",
    "for i in cStudents:\n",
    "    temp.append(np.setdiff1d(conservationCourseList, students[students['StudentID']==i]['StudyPackageCode']))"
   ]
  },
  {
   "cell_type": "code",
   "execution_count": null,
   "metadata": {
    "collapsed": true
   },
   "outputs": [],
   "source": [
    "matrix = np.matrix([cStudents, temp])\n",
    "df = pd.DataFrame(data=matrix)\n",
    "df = df.T\n",
    "df.columns = ['StudentID', 'units']\n",
    "df.to_csv(\"conservpathways.csv\", index=False)"
   ]
  },
  {
   "cell_type": "code",
   "execution_count": null,
   "metadata": {
    "collapsed": true
   },
   "outputs": [],
   "source": []
  },
  {
   "cell_type": "code",
   "execution_count": null,
   "metadata": {
    "collapsed": true
   },
   "outputs": [],
   "source": []
  },
  {
   "cell_type": "code",
   "execution_count": 168,
   "metadata": {},
   "outputs": [
    {
     "data": {
      "text/html": [
       "<div>\n",
       "<style>\n",
       "    .dataframe thead tr:only-child th {\n",
       "        text-align: right;\n",
       "    }\n",
       "\n",
       "    .dataframe thead th {\n",
       "        text-align: left;\n",
       "    }\n",
       "\n",
       "    .dataframe tbody tr th {\n",
       "        vertical-align: top;\n",
       "    }\n",
       "</style>\n",
       "<table border=\"1\" class=\"dataframe\">\n",
       "  <thead>\n",
       "    <tr style=\"text-align: right;\">\n",
       "      <th></th>\n",
       "      <th>discpline</th>\n",
       "      <th>year</th>\n",
       "      <th>sem</th>\n",
       "      <th>course_code</th>\n",
       "      <th>unit_name</th>\n",
       "    </tr>\n",
       "  </thead>\n",
       "  <tbody>\n",
       "    <tr>\n",
       "      <th>0</th>\n",
       "      <td>Core</td>\n",
       "      <td>1</td>\n",
       "      <td>1</td>\n",
       "      <td>JFA101</td>\n",
       "      <td>Aquatic Biology A</td>\n",
       "    </tr>\n",
       "    <tr>\n",
       "      <th>1</th>\n",
       "      <td>Core</td>\n",
       "      <td>1</td>\n",
       "      <td>1</td>\n",
       "      <td>JFA114</td>\n",
       "      <td>Introduction to Oceanography</td>\n",
       "    </tr>\n",
       "    <tr>\n",
       "      <th>2</th>\n",
       "      <td>major</td>\n",
       "      <td>1</td>\n",
       "      <td>1</td>\n",
       "      <td>JFA108</td>\n",
       "      <td>Intro to Fisheries Management</td>\n",
       "    </tr>\n",
       "    <tr>\n",
       "      <th>3</th>\n",
       "      <td>minor</td>\n",
       "      <td>1</td>\n",
       "      <td>1</td>\n",
       "      <td>JFA110</td>\n",
       "      <td>Intro to Marine Conservation</td>\n",
       "    </tr>\n",
       "    <tr>\n",
       "      <th>4</th>\n",
       "      <td>Core</td>\n",
       "      <td>1</td>\n",
       "      <td>2</td>\n",
       "      <td>JFA102</td>\n",
       "      <td>Aquatic Biology B</td>\n",
       "    </tr>\n",
       "    <tr>\n",
       "      <th>5</th>\n",
       "      <td>major</td>\n",
       "      <td>1</td>\n",
       "      <td>2</td>\n",
       "      <td>JFA104</td>\n",
       "      <td>Fisheries Industry &amp; Operations</td>\n",
       "    </tr>\n",
       "    <tr>\n",
       "      <th>6</th>\n",
       "      <td>minor</td>\n",
       "      <td>1</td>\n",
       "      <td>2</td>\n",
       "      <td>JFA107</td>\n",
       "      <td>Intro to Economics</td>\n",
       "    </tr>\n",
       "    <tr>\n",
       "      <th>7</th>\n",
       "      <td>Core</td>\n",
       "      <td>1</td>\n",
       "      <td>2</td>\n",
       "      <td>KMA153</td>\n",
       "      <td>Data Handl. &amp; Stats</td>\n",
       "    </tr>\n",
       "    <tr>\n",
       "      <th>8</th>\n",
       "      <td>Core</td>\n",
       "      <td>1</td>\n",
       "      <td>2</td>\n",
       "      <td>JFA112</td>\n",
       "      <td>Intro to Quantitative Meth</td>\n",
       "    </tr>\n",
       "    <tr>\n",
       "      <th>9</th>\n",
       "      <td>Core</td>\n",
       "      <td>2</td>\n",
       "      <td>1</td>\n",
       "      <td>JFA210</td>\n",
       "      <td>Foundations of Ecology</td>\n",
       "    </tr>\n",
       "    <tr>\n",
       "      <th>10</th>\n",
       "      <td>minor</td>\n",
       "      <td>2</td>\n",
       "      <td>1</td>\n",
       "      <td>JFA213</td>\n",
       "      <td>Marine Resource Economics</td>\n",
       "    </tr>\n",
       "    <tr>\n",
       "      <th>11</th>\n",
       "      <td>major</td>\n",
       "      <td>2</td>\n",
       "      <td>1</td>\n",
       "      <td>JFA240</td>\n",
       "      <td>Introduction to Geographic Information Systems</td>\n",
       "    </tr>\n",
       "    <tr>\n",
       "      <th>12</th>\n",
       "      <td>minor</td>\n",
       "      <td>2</td>\n",
       "      <td>2</td>\n",
       "      <td>HPP214\\nKSA302\\nJFA310</td>\n",
       "      <td>Antarctic and Oceans Policy</td>\n",
       "    </tr>\n",
       "    <tr>\n",
       "      <th>13</th>\n",
       "      <td>minor</td>\n",
       "      <td>2</td>\n",
       "      <td>2</td>\n",
       "      <td>KSA302</td>\n",
       "      <td>International Marine Management</td>\n",
       "    </tr>\n",
       "    <tr>\n",
       "      <th>14</th>\n",
       "      <td>minor</td>\n",
       "      <td>2</td>\n",
       "      <td>2</td>\n",
       "      <td>JFA310</td>\n",
       "      <td>Fisheries Policy and Law</td>\n",
       "    </tr>\n",
       "    <tr>\n",
       "      <th>15</th>\n",
       "      <td>Core</td>\n",
       "      <td>2</td>\n",
       "      <td>2</td>\n",
       "      <td>JFA207</td>\n",
       "      <td>Data Analysis &amp; Presentation</td>\n",
       "    </tr>\n",
       "    <tr>\n",
       "      <th>16</th>\n",
       "      <td>major</td>\n",
       "      <td>2</td>\n",
       "      <td>2</td>\n",
       "      <td>JFA209</td>\n",
       "      <td>Fisheries Biology &amp; Population Dynamics</td>\n",
       "    </tr>\n",
       "    <tr>\n",
       "      <th>17</th>\n",
       "      <td>major</td>\n",
       "      <td>3</td>\n",
       "      <td>1</td>\n",
       "      <td>JFA308</td>\n",
       "      <td>Fisheries Assessment</td>\n",
       "    </tr>\n",
       "    <tr>\n",
       "      <th>18</th>\n",
       "      <td>Core</td>\n",
       "      <td>3</td>\n",
       "      <td>1</td>\n",
       "      <td>JFA307</td>\n",
       "      <td>Ecosystem Ass. for policy design</td>\n",
       "    </tr>\n",
       "    <tr>\n",
       "      <th>19</th>\n",
       "      <td>major</td>\n",
       "      <td>3</td>\n",
       "      <td>1</td>\n",
       "      <td>JFA318</td>\n",
       "      <td>Responsible Fishing</td>\n",
       "    </tr>\n",
       "    <tr>\n",
       "      <th>20</th>\n",
       "      <td>Core</td>\n",
       "      <td>3</td>\n",
       "      <td>2</td>\n",
       "      <td>JFA322</td>\n",
       "      <td>Topics in the marine environment or</td>\n",
       "    </tr>\n",
       "    <tr>\n",
       "      <th>21</th>\n",
       "      <td>Core</td>\n",
       "      <td>3</td>\n",
       "      <td>3</td>\n",
       "      <td>JFA314</td>\n",
       "      <td>Practicum</td>\n",
       "    </tr>\n",
       "    <tr>\n",
       "      <th>22</th>\n",
       "      <td>Major</td>\n",
       "      <td>3</td>\n",
       "      <td>2</td>\n",
       "      <td>JFA309</td>\n",
       "      <td>Fisheries Management &amp; Planning</td>\n",
       "    </tr>\n",
       "    <tr>\n",
       "      <th>23</th>\n",
       "      <td>major</td>\n",
       "      <td>3</td>\n",
       "      <td>2</td>\n",
       "      <td>JFA313</td>\n",
       "      <td>Marine Environment &amp; Society</td>\n",
       "    </tr>\n",
       "  </tbody>\n",
       "</table>\n",
       "</div>"
      ],
      "text/plain": [
       "   discpline  year  sem             course_code  \\\n",
       "0      Core      1    1                  JFA101   \n",
       "1       Core     1    1                  JFA114   \n",
       "2      major     1    1                  JFA108   \n",
       "3      minor     1    1                  JFA110   \n",
       "4       Core     1    2                  JFA102   \n",
       "5      major     1    2                  JFA104   \n",
       "6      minor     1    2                  JFA107   \n",
       "7       Core     1    2                  KMA153   \n",
       "8       Core     1    2                  JFA112   \n",
       "9       Core     2    1                  JFA210   \n",
       "10     minor     2    1                  JFA213   \n",
       "11     major     2    1                  JFA240   \n",
       "12     minor     2    2  HPP214\\nKSA302\\nJFA310   \n",
       "13     minor     2    2                  KSA302   \n",
       "14     minor     2    2                  JFA310   \n",
       "15      Core     2    2                  JFA207   \n",
       "16     major     2    2                  JFA209   \n",
       "17     major     3    1                  JFA308   \n",
       "18      Core     3    1                  JFA307   \n",
       "19     major     3    1                  JFA318   \n",
       "20      Core     3    2                  JFA322   \n",
       "21      Core     3    3                  JFA314   \n",
       "22     Major     3    2                  JFA309   \n",
       "23     major     3    2                  JFA313   \n",
       "\n",
       "                                         unit_name  \n",
       "0                                Aquatic Biology A  \n",
       "1                    Introduction to Oceanography   \n",
       "2                    Intro to Fisheries Management  \n",
       "3                     Intro to Marine Conservation  \n",
       "4                                Aquatic Biology B  \n",
       "5                  Fisheries Industry & Operations  \n",
       "6                               Intro to Economics  \n",
       "7                             Data Handl. & Stats   \n",
       "8                       Intro to Quantitative Meth  \n",
       "9                           Foundations of Ecology  \n",
       "10                       Marine Resource Economics  \n",
       "11  Introduction to Geographic Information Systems  \n",
       "12                     Antarctic and Oceans Policy  \n",
       "13                 International Marine Management  \n",
       "14                        Fisheries Policy and Law  \n",
       "15                   Data Analysis & Presentation   \n",
       "16         Fisheries Biology & Population Dynamics  \n",
       "17                            Fisheries Assessment  \n",
       "18                Ecosystem Ass. for policy design  \n",
       "19                             Responsible Fishing  \n",
       "20            Topics in the marine environment or   \n",
       "21                                      Practicum   \n",
       "22                 Fisheries Management & Planning  \n",
       "23                    Marine Environment & Society  "
      ]
     },
     "execution_count": 168,
     "metadata": {},
     "output_type": "execute_result"
    }
   ],
   "source": [
    "fisheries"
   ]
  },
  {
   "cell_type": "code",
   "execution_count": null,
   "metadata": {
    "collapsed": true
   },
   "outputs": [],
   "source": []
  },
  {
   "cell_type": "code",
   "execution_count": null,
   "metadata": {
    "collapsed": true
   },
   "outputs": [],
   "source": []
  }
 ],
 "metadata": {
  "kernelspec": {
   "display_name": "Python 2",
   "language": "python",
   "name": "python2"
  },
  "language_info": {
   "codemirror_mode": {
    "name": "ipython",
    "version": 2
   },
   "file_extension": ".py",
   "mimetype": "text/x-python",
   "name": "python",
   "nbconvert_exporter": "python",
   "pygments_lexer": "ipython2",
   "version": "2.7.13"
  }
 },
 "nbformat": 4,
 "nbformat_minor": 1
}
